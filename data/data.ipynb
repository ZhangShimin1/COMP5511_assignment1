{
 "cells": [
  {
   "cell_type": "code",
   "execution_count": 1,
   "id": "initial_id",
   "metadata": {
    "collapsed": true,
    "ExecuteTime": {
     "end_time": "2023-10-07T04:33:56.285225600Z",
     "start_time": "2023-10-07T04:33:56.264224900Z"
    }
   },
   "outputs": [],
   "source": [
    "import csv"
   ]
  },
  {
   "cell_type": "code",
   "execution_count": 2,
   "outputs": [],
   "source": [
    "with open('customer.txt', 'r') as txt_file:\n",
    "    lines = txt_file.readlines()"
   ],
   "metadata": {
    "collapsed": false,
    "ExecuteTime": {
     "end_time": "2023-10-07T04:33:57.763162900Z",
     "start_time": "2023-10-07T04:33:57.749447300Z"
    }
   },
   "id": "19a79d4f485b5762"
  },
  {
   "cell_type": "code",
   "execution_count": 3,
   "outputs": [],
   "source": [
    "import re\n",
    "cleaned_lines = [re.sub(r'\\s+', ',', line.strip()) for line in lines]"
   ],
   "metadata": {
    "collapsed": false,
    "ExecuteTime": {
     "end_time": "2023-10-07T04:33:59.791782900Z",
     "start_time": "2023-10-07T04:33:59.775771900Z"
    }
   },
   "id": "dfc9be0e5d02c4c6"
  },
  {
   "cell_type": "code",
   "execution_count": 4,
   "outputs": [],
   "source": [
    "with open('data.csv', 'w', newline='') as csv_file:\n",
    "    csv_writer = csv.writer(csv_file)\n",
    "    for line in cleaned_lines:\n",
    "        csv_writer.writerow(line.split(','))"
   ],
   "metadata": {
    "collapsed": false,
    "ExecuteTime": {
     "end_time": "2023-10-07T04:34:01.914872500Z",
     "start_time": "2023-10-07T04:34:01.908861600Z"
    }
   },
   "id": "e1628ad57f4c8057"
  }
 ],
 "metadata": {
  "kernelspec": {
   "display_name": "Python 3",
   "language": "python",
   "name": "python3"
  },
  "language_info": {
   "codemirror_mode": {
    "name": "ipython",
    "version": 2
   },
   "file_extension": ".py",
   "mimetype": "text/x-python",
   "name": "python",
   "nbconvert_exporter": "python",
   "pygments_lexer": "ipython2",
   "version": "2.7.6"
  }
 },
 "nbformat": 4,
 "nbformat_minor": 5
}
