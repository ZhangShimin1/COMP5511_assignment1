{
 "cells": [
  {
   "cell_type": "code",
   "execution_count": 1,
   "id": "initial_id",
   "metadata": {
    "collapsed": true,
    "ExecuteTime": {
     "end_time": "2023-10-29T06:05:24.898847900Z",
     "start_time": "2023-10-29T06:05:22.984908900Z"
    }
   },
   "outputs": [],
   "source": [
    "import pandas as pd\n",
    "import numpy as np\n",
    "import random\n",
    "import math\n",
    "import matplotlib.pyplot as plt\n",
    "from deap import base, creator, tools, algorithms"
   ]
  },
  {
   "cell_type": "code",
   "execution_count": 2,
   "outputs": [],
   "source": [
    "df = pd.read_csv('data.csv')\n",
    "x_coords = df['XCOORD'].tolist()\n",
    "y_coords = df['YCOORD'].tolist()"
   ],
   "metadata": {
    "collapsed": false,
    "ExecuteTime": {
     "end_time": "2023-10-29T06:05:26.704864800Z",
     "start_time": "2023-10-29T06:05:26.673601400Z"
    }
   },
   "id": "699d920991595bc9"
  },
  {
   "cell_type": "code",
   "execution_count": 3,
   "outputs": [],
   "source": [
    "def update_coordinates(x_coords, y_coords, e):\n",
    "    x_new = [x + 2*e*math.cos(e*math.pi/2) for x in x_coords]\n",
    "    y_new = [y + 2*e*math.sin(e*math.pi/2) for y in y_coords]\n",
    "    return x_new, y_new"
   ],
   "metadata": {
    "collapsed": false,
    "ExecuteTime": {
     "end_time": "2023-10-29T06:05:28.460608200Z",
     "start_time": "2023-10-29T06:05:28.444948600Z"
    }
   },
   "id": "dca395809b1a42e4"
  },
  {
   "cell_type": "code",
   "execution_count": 6,
   "outputs": [
    {
     "name": "stderr",
     "output_type": "stream",
     "text": [
      "E:\\Anaconda3\\envs\\torch\\lib\\site-packages\\deap\\creator.py:185: RuntimeWarning: A class named 'FitnessMin' has already been created and it will be overwritten. Consider deleting previous creation of that class or rename it.\n",
      "  warnings.warn(\"A class named '{0}' has already been created and it \"\n",
      "E:\\Anaconda3\\envs\\torch\\lib\\site-packages\\deap\\creator.py:185: RuntimeWarning: A class named 'Individual' has already been created and it will be overwritten. Consider deleting previous creation of that class or rename it.\n",
      "  warnings.warn(\"A class named '{0}' has already been created and it \"\n"
     ]
    },
    {
     "name": "stdout",
     "output_type": "stream",
     "text": [
      "environment-0, best distance-327.00105631985576\n",
      "environment-1, best distance-482.2153600811\n",
      "environment-2, best distance-625.0670158120989\n",
      "environment-3, best distance-683.0046940785197\n",
      "environment-4, best distance-857.4072867728171\n",
      "environment-5, best distance-1022.0361320944975\n"
     ]
    }
   ],
   "source": [
    "random.seed(42)\n",
    "np.random.seed(42)\n",
    "for e in range(6):\n",
    "    x_coords, y_coords = update_coordinates(x_coords, y_coords, e)\n",
    "    \n",
    "    num_customers = 50 + e * 10\n",
    "    distance_matrix = np.zeros((num_customers, num_customers))\n",
    "    for i in range(num_customers):\n",
    "        for j in range(num_customers):\n",
    "            if i != j:\n",
    "                distance_matrix[i][j] = np.sqrt((x_coords[i] - x_coords[j]) ** 2 + (y_coords[i] - y_coords[j]) ** 2)\n",
    "    \n",
    "    creator.create(\"FitnessMin\", base.Fitness, weights=(-1.0,))\n",
    "    creator.create(\"Individual\", list, fitness=creator.FitnessMin)\n",
    "\n",
    "    toolbox = base.Toolbox()\n",
    "    toolbox.register(\"indices\", random.sample, range(num_customers), num_customers)\n",
    "    toolbox.register(\"individual\", tools.initIterate, creator.Individual, toolbox.indices)\n",
    "    toolbox.register(\"population\", tools.initRepeat, list, toolbox.individual)\n",
    "    \n",
    "    def evaluate_tsp(individual):\n",
    "        total_distance = 0\n",
    "        for i in range(len(individual) - 1):\n",
    "            total_distance += distance_matrix[individual[i]][individual[i + 1]]\n",
    "        total_distance += distance_matrix[individual[-1]][individual[0]]  # Return to starting point\n",
    "        return total_distance,\n",
    "    \n",
    "    toolbox.register(\"evaluate\", evaluate_tsp)\n",
    "    toolbox.register(\"mate\", tools.cxOrdered)\n",
    "    toolbox.register(\"mutate\", tools.mutShuffleIndexes, indpb=0.05)\n",
    "    toolbox.register(\"select\", tools.selTournament, tournsize=3)\n",
    "\n",
    "    population = toolbox.population(n=800)\n",
    "    \n",
    "    hof = tools.HallOfFame(1)\n",
    "    stats = tools.Statistics(lambda ind: ind.fitness.values)\n",
    "    stats.register(\"min\", np.min)\n",
    "    best = tools.selBest(population, k=1)[0]\n",
    "    best_distance = evaluate_tsp(best)[0]\n",
    "    \n",
    "    for gen in range(100):\n",
    "        offspring = algorithms.varAnd(population, toolbox, cxpb=0.7, mutpb=0.2)\n",
    "        fits = toolbox.map(toolbox.evaluate, offspring)\n",
    "        for fit, ind in zip(fits, offspring):\n",
    "            ind.fitness.values = fit\n",
    "        population = toolbox.select(offspring + population, k=len(population))\n",
    "        hof.update(population)\n",
    "        best = tools.selBest(population, k=1)[0]\n",
    "        best_distance = evaluate_tsp(best)[0]\n",
    "    print(f\"environment-{e}, best distance-{best_distance}\")"
   ],
   "metadata": {
    "collapsed": false,
    "ExecuteTime": {
     "end_time": "2023-10-28T01:11:16.016870200Z",
     "start_time": "2023-10-28T01:10:33.901105900Z"
    }
   },
   "id": "448cde789ed923ce"
  },
  {
   "cell_type": "code",
   "execution_count": 4,
   "outputs": [],
   "source": [
    "def evaluate_tsp(individual, distance_matrix):\n",
    "    total_distance = 0\n",
    "    for i in range(len(individual) - 1):\n",
    "        total_distance += distance_matrix[individual[i]][individual[i + 1]]\n",
    "    # total_distance += distance_matrix[individual[-1]][individual[0]]  # Return to starting point\n",
    "    return total_distance,"
   ],
   "metadata": {
    "collapsed": false,
    "ExecuteTime": {
     "end_time": "2023-10-29T06:05:33.281095400Z",
     "start_time": "2023-10-29T06:05:33.265292800Z"
    }
   },
   "id": "c7a0c5c89ab900f"
  },
  {
   "cell_type": "code",
   "execution_count": 6,
   "outputs": [
    {
     "name": "stderr",
     "output_type": "stream",
     "text": [
      "E:\\Anaconda3\\envs\\torch\\lib\\site-packages\\deap\\creator.py:185: RuntimeWarning: A class named 'FitnessMin' has already been created and it will be overwritten. Consider deleting previous creation of that class or rename it.\n",
      "  warnings.warn(\"A class named '{0}' has already been created and it \"\n",
      "E:\\Anaconda3\\envs\\torch\\lib\\site-packages\\deap\\creator.py:185: RuntimeWarning: A class named 'Individual' has already been created and it will be overwritten. Consider deleting previous creation of that class or rename it.\n",
      "  warnings.warn(\"A class named '{0}' has already been created and it \"\n"
     ]
    },
    {
     "name": "stdout",
     "output_type": "stream",
     "text": [
      "environment 0, part best distance 295.78448589324756, best distance (295.78448589324756,)\n",
      "environment 1, part best distance 104.57068724183203, best distance (535.3257156075781,)\n",
      "environment 2, part best distance 95.28650381374005, best distance (779.5683574219245,)\n",
      "environment 3, part best distance 105.09507207287827, best distance (998.1319255936779,)\n",
      "environment 4, part best distance 108.95985876450091, best distance (1185.1733016444675,)\n",
      "environment 5, part best distance 139.36749483642615, best distance (1403.2672464654893,)\n"
     ]
    }
   ],
   "source": [
    "random.seed(42)\n",
    "np.random.seed(42)\n",
    "previous_solution = []\n",
    "for e in range(6):\n",
    "    x_coords, y_coords = update_coordinates(x_coords, y_coords, e)\n",
    "    \n",
    "    if e == 0:\n",
    "        num_customers = 50\n",
    "        distance_matrix = np.zeros((num_customers, num_customers))\n",
    "        for i in range(num_customers):\n",
    "            for j in range(num_customers):\n",
    "                if i != j:\n",
    "                    distance_matrix[i][j] = np.sqrt((x_coords[i] - x_coords[j]) ** 2 + (y_coords[i] - y_coords[j]) ** 2)\n",
    "    else:\n",
    "        num_customers = 10\n",
    "        distance_matrix = np.zeros((num_customers, num_customers))\n",
    "        for i in range(10):\n",
    "            for j in range(10):\n",
    "                if i != j:\n",
    "                    distance_matrix[i][j] = np.sqrt((x_coords[40+10*e+i] - x_coords[40+10*e+j]) ** 2 + (y_coords[40+10*e+i] - y_coords[40+10*e+j]) ** 2)\n",
    "                    \n",
    "    complete_distance_matrix = np.zeros((50+10*e, 50+10*e))\n",
    "    for i in range(50+10*e):\n",
    "        for j in range(50+10*e):\n",
    "            if i != j:\n",
    "                complete_distance_matrix[i][j] = np.sqrt((x_coords[i] - x_coords[j]) ** 2 + (y_coords[i] - y_coords[j]) ** 2)\n",
    "                \n",
    "    creator.create(\"FitnessMin\", base.Fitness, weights=(-1.0,))\n",
    "    creator.create(\"Individual\", list, fitness=creator.FitnessMin)\n",
    "\n",
    "    toolbox = base.Toolbox()\n",
    "    toolbox.register(\"indices\", random.sample, range(num_customers), num_customers)\n",
    "    toolbox.register(\"individual\", tools.initIterate, creator.Individual, toolbox.indices)\n",
    "    toolbox.register(\"population\", tools.initRepeat, list, toolbox.individual)\n",
    "    \n",
    "    toolbox.register(\"evaluate\", evaluate_tsp, distance_matrix=distance_matrix)\n",
    "    toolbox.register(\"mate\", tools.cxOrdered)\n",
    "    toolbox.register(\"mutate\", tools.mutShuffleIndexes, indpb=0.05)\n",
    "    toolbox.register(\"select\", tools.selTournament, tournsize=3)\n",
    "\n",
    "    population = toolbox.population(n=800)\n",
    "    \n",
    "    hof = tools.HallOfFame(1)\n",
    "    stats = tools.Statistics(lambda ind: ind.fitness.values)\n",
    "    stats.register(\"min\", np.min)\n",
    "    \n",
    "    for gen in range(100):\n",
    "        offspring = algorithms.varAnd(population, toolbox, cxpb=0.7, mutpb=0.2)\n",
    "        fits = toolbox.map(toolbox.evaluate, offspring)\n",
    "        for fit, ind in zip(fits, offspring):\n",
    "            ind.fitness.values = fit\n",
    "        population = toolbox.select(offspring + population, k=len(population))\n",
    "        hof.update(population)\n",
    "        best = tools.selBest(population, k=1)[0]\n",
    "        best_single_distance = evaluate_tsp(best, distance_matrix)[0]\n",
    "    previous_solution += list(best)\n",
    "    best_distance = evaluate_tsp(previous_solution, complete_distance_matrix)\n",
    "    print(f\"environment {e}, part best distance {best_single_distance}, best distance {best_distance}\")\n",
    "    "
   ],
   "metadata": {
    "collapsed": false,
    "ExecuteTime": {
     "end_time": "2023-10-29T06:09:43.933817300Z",
     "start_time": "2023-10-29T06:07:08.500248200Z"
    }
   },
   "id": "bac3a6a76dcb5ad9"
  },
  {
   "cell_type": "code",
   "execution_count": 9,
   "outputs": [
    {
     "data": {
      "text/plain": "<Figure size 640x480 with 1 Axes>",
      "image/png": "[encoded data removed]"
     },
     "metadata": {},
     "output_type": "display_data"
    }
   ],
   "source": [
    "import matplotlib.pyplot as plt\n",
    "reuse = [327.001, 482.22, 625.06, 683.00, 857.41, 1022.04]\n",
    "non_reuse = [295.78, 535.33, 779.57, 998.13, 1185.17, 1403.27]\n",
    "x_axis = [\"env0\", \"env1\", \"env2\", \"env3\", \"env4\", \"env5\"]\n",
    "plt.plot(x_axis, reuse, marker='o', linestyle='-', label='reuse')\n",
    "plt.plot(x_axis, non_reuse, marker='o', linestyle='-', label='non-reuse')\n",
    "plt.xlabel(\"Environment\")\n",
    "plt.ylabel('Traveling Distance')\n",
    "plt.legend()\n",
    "plt.savefig(\"fig6.png\")\n",
    "plt.show()"
   ],
   "metadata": {
    "collapsed": false,
    "ExecuteTime": {
     "end_time": "2023-10-29T06:33:02.690623400Z",
     "start_time": "2023-10-29T06:33:02.564107100Z"
    }
   },
   "id": "6299d764696b9e5d"
  }
 ],
 "metadata": {
  "kernelspec": {
   "display_name": "Python 3",
   "language": "python",
   "name": "python3"
  },
  "language_info": {
   "codemirror_mode": {
    "name": "ipython",
    "version": 2
   },
   "file_extension": ".py",
   "mimetype": "text/x-python",
   "name": "python",
   "nbconvert_exporter": "python",
   "pygments_lexer": "ipython2",
   "version": "2.7.6"
  }
 },
 "nbformat": 4,
 "nbformat_minor": 5
}
